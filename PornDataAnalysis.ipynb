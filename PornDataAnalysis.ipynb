{
 "cells": [
  {
   "cell_type": "markdown",
   "metadata": {},
   "source": [
    "# XHamster网站数据分析\n",
    "通过分析xhamster网站的内容得到此报告，旨在分析xhamster的特性，并且针对个人喜好进行自动的学习和打分。"
   ]
  },
  {
   "cell_type": "markdown",
   "metadata": {},
   "source": [
    "## Part1 数据导入与处理\n",
    "关于数据的获取，请见!https://github.com/TsingJyujing/DataSpider\n",
    "数据下载到本地的数据库以后（本文使用的是PostgreSQL数据库），首先需要对网站的内容进行打分，打分的界面仁者见仁，智者见智。\n",
    "在此只给代码，不赘述了。"
   ]
  },
  {
   "cell_type": "code",
   "execution_count": 1,
   "metadata": {
    "collapsed": false
   },
   "outputs": [],
   "source": [
    "# Import libraries\n",
    "import psycopg2\n",
    "import numpy as np\n",
    "import matplotlib\n",
    "%matplotlib inline  \n",
    "from matplotlib.pyplot import *"
   ]
  },
  {
   "cell_type": "code",
   "execution_count": 2,
   "metadata": {
    "collapsed": true
   },
   "outputs": [],
   "source": [
    "def genSQLConnection():\n",
    "    return psycopg2.connect(\n",
    "        database=\"pvideo\",\n",
    "        user=\"postgres\",\n",
    "        password=\"979323\",\n",
    "        host=\"localhost\",\n",
    "        port=\"5432\")\n",
    "\n",
    "def getRatedVideos(conn):\n",
    "    sql_cmd = \"\"\"\n",
    "SELECT id, title, img_urls, categories, rating, video_time, myrate\n",
    "FROM public.xhamster_spider WHERE myrate is not null \"\"\"\n",
    "    cur = conn.cursor()\n",
    "    cur.execute(sql_cmd)\n",
    "    res = cur.fetchall()\n",
    "    cur.close()\n",
    "    return res\n",
    "\n",
    "def getAllVideos(conn):\n",
    "    sql_cmd = \"\"\"\n",
    "SELECT id, title, img_urls, categories, rating, video_time\n",
    "FROM public.xhamster_spider\"\"\"\n",
    "    cur = conn.cursor()\n",
    "    cur.execute(sql_cmd)\n",
    "    res = cur.fetchall()\n",
    "    cur.close()\n",
    "    return res\n",
    "\n",
    "def getCategoriesSet(res):\n",
    "    tag_set = set([])\n",
    "    for row in res:\n",
    "        tag_set |= set(row[3])\n",
    "    return tag_set"
   ]
  },
  {
   "cell_type": "code",
   "execution_count": 3,
   "metadata": {
    "collapsed": false
   },
   "outputs": [
    {
     "name": "stdout",
     "output_type": "stream",
     "text": [
      "get 1659 tags:\n"
     ]
    }
   ],
   "source": [
    "conn = genSQLConnection()\n",
    "result_set = getRatedVideos(conn)\n",
    "result_set_all = getAllVideos(conn)\n",
    "tags = getCategoriesSet(result_set)\n",
    "print \"get %d tags:\" % len(tags)"
   ]
  },
  {
   "cell_type": "code",
   "execution_count": 4,
   "metadata": {
    "collapsed": false
   },
   "outputs": [
    {
     "name": "stdout",
     "output_type": "stream",
     "text": [
      "302332\n"
     ]
    }
   ],
   "source": [
    "print len(result_set_all)\n",
    "Tall = np.zeros(len(result_set_all))\n",
    "for i, res in enumerate(result_set_all):\n",
    "    Tall[i] = res[-1]"
   ]
  },
  {
   "cell_type": "code",
   "execution_count": 5,
   "metadata": {
    "collapsed": true
   },
   "outputs": [],
   "source": [
    "# give index to tags\n",
    "tag_index_dict = {}\n",
    "tag_list = list(tags)\n",
    "for index, tag in enumerate(tag_list):\n",
    "    tag_index_dict[tag] = index"
   ]
  },
  {
   "cell_type": "code",
   "execution_count": 6,
   "metadata": {
    "collapsed": true
   },
   "outputs": [],
   "source": [
    "# Convert to matrix/vector format\n",
    "X = np.zeros((len(result_set), len(tag_index_dict)), dtype=\"float32\")\n",
    "y = np.zeros((len(result_set), 1), dtype=\"float32\")\n",
    "T = np.zeros((len(result_set), 1), dtype=\"float32\")\n",
    "for i in range(len(result_set)):\n",
    "    for tag in result_set[i][3]:\n",
    "        X[i, tag_index_dict[tag]] = 1\n",
    "    y[i] = result_set[i][-1]\n",
    "    T[i] = result_set[i][5]"
   ]
  },
  {
   "cell_type": "markdown",
   "metadata": {},
   "source": [
    " ## Part 2 初步的可视化\n",
    " 首先对数据进行可视化的是时间，首先看一下时间的原始分布："
   ]
  },
  {
   "cell_type": "code",
   "execution_count": 7,
   "metadata": {
    "collapsed": false
   },
   "outputs": [
    {
     "data": {
      "text/plain": [
       "<matplotlib.text.Text at 0x7ff7a412eb10>"
      ]
     },
     "execution_count": 7,
     "metadata": {},
     "output_type": "execute_result"
    },
    {
     "data": {
      "image/png": "[encoded data removed]",
      "text/plain": [
       "<matplotlib.figure.Figure at 0x7ff78a2bb710>"
      ]
     },
     "metadata": {},
     "output_type": "display_data"
    }
   ],
   "source": [
    "[F, x, p] = hist(Tall, bins = 35)\n",
    "xlabel('Time(s)')\n",
    "ylabel('Frequency')"
   ]
  },
  {
   "cell_type": "markdown",
   "metadata": {
    "collapsed": true
   },
   "source": [
    "我们发现聚集在0附近的比较多，而且播放时间都是大于0的（这算常识了）\n",
    "我们再统计一下log(T)的分布："
   ]
  },
  {
   "cell_type": "code",
   "execution_count": 45,
   "metadata": {
    "collapsed": false
   },
   "outputs": [
    {
     "data": {
      "text/plain": [
       "<matplotlib.text.Text at 0x7ff77c34cd10>"
      ]
     },
     "execution_count": 45,
     "metadata": {},
     "output_type": "execute_result"
    },
    {
     "data": {
      "image/png": "[encoded data removed]",
      "text/plain": [
       "<matplotlib.figure.Figure at 0x7ff77c625d10>"
      ]
     },
     "metadata": {},
     "output_type": "display_data"
    }
   ],
   "source": [
    "[F, x, p] = hist(np.log10(Tall), bins = 50, normed=True, histtype='stepfilled', alpha=0.35)\n",
    "xlabel('log_10(Time(s))')\n",
    "ylabel('Frequency')"
   ]
  },
  {
   "cell_type": "markdown",
   "metadata": {},
   "source": [
    "可以看到现在的分布比较好看了，也具有更“好”的性质了（其实就是长的像正态，至于是不是正态应该qqplot一下）"
   ]
  },
  {
   "cell_type": "code",
   "execution_count": 9,
   "metadata": {
    "collapsed": false,
    "scrolled": true
   },
   "outputs": [
    {
     "data": {
      "image/png": "[encoded data removed]",
      "text/plain": [
       "<matplotlib.figure.Figure at 0x7ff781e23a50>"
      ]
     },
     "metadata": {},
     "output_type": "display_data"
    }
   ],
   "source": [
    "import pylab \n",
    "import scipy.stats as stats\n",
    "# stats.probplot(np.log10(Tall).reshape((len(Tall),)), dist=stats.nct, sparams=(150, 0.2), plot=pylab)\n",
    "stats.probplot(np.log10(Tall).reshape((len(Tall),)), dist=\"norm\", plot=pylab)\n",
    "pylab.show()"
   ]
  },
  {
   "cell_type": "markdown",
   "metadata": {},
   "source": [
    "可以看到，还是基本符合正态分布的。"
   ]
  },
  {
   "cell_type": "code",
   "execution_count": 10,
   "metadata": {
    "collapsed": false
   },
   "outputs": [
    {
     "data": {
      "text/plain": [
       "<matplotlib.text.Text at 0x7ff7817e2bd0>"
      ]
     },
     "execution_count": 10,
     "metadata": {},
     "output_type": "execute_result"
    },
    {
     "data": {
      "image/png": "[encoded data removed]",
      "text/plain": [
       "<matplotlib.figure.Figure at 0x7ff78184db10>"
      ]
     },
     "metadata": {},
     "output_type": "display_data"
    }
   ],
   "source": [
    "[F, x, p] = hist(y, bins = 5)\n",
    "xlabel('Rate')\n",
    "ylabel('Frequency')\n",
    "title('My rate distribution')"
   ]
  },
  {
   "cell_type": "markdown",
   "metadata": {
    "collapsed": true
   },
   "source": [
    "\n",
    "\n",
    "## 性癖的机器学习\n",
    "我为381部电影打了分，当然是根据个人的喜好，比如我对平刘海有着深刻的好感，没有平刘海简直就不是女生（逃\n",
    "\n",
    "为了让机器知道我喜欢那些电影，以后自动帮我下载（误\n",
    "\n",
    "我需要让机器学习一下我的癖好，就根据网站上的标签（我称之为Tag，其实是Categories）"
   ]
  },
  {
   "cell_type": "code",
   "execution_count": 46,
   "metadata": {
    "collapsed": false
   },
   "outputs": [
    {
     "name": "stdout",
     "output_type": "stream",
     "text": [
      "Test:79, Train:453\n",
      "Positive rate:31.390977%\n"
     ]
    }
   ],
   "source": [
    "considerTime = False\n",
    "import random\n",
    "if considerTime:\n",
    "    Xt = np.concatenate((np.log10(T), X), axis=1)\n",
    "else:\n",
    "    Xt = X\n",
    "index = [i for i in range(len(y))]\n",
    "random.shuffle(index)\n",
    "Xt = Xt[index,:]\n",
    "y = y[index]\n",
    "testRange = int(len(y)*0.15)\n",
    "Xt_test = Xt[:testRange,:]\n",
    "y_test = y[:testRange]\n",
    "Xt_train = Xt[testRange:,:]\n",
    "y_train = y[testRange:]\n",
    "print \"Test:%d, Train:%d\" % (len(y_test), len(y_train))\n",
    "print \"Positive rate:%f%%\" % (sum(y>-0.5)[0]*100.0/len(y))"
   ]
  },
  {
   "cell_type": "markdown",
   "metadata": {},
   "source": [
    "### 使用Logistic模型对性癖进行学习\n",
    "下面是用Logistic Regression对性癖进行学习，使用了sklearn中的LogisticRegressionCV（带交叉验证的Logistic回归）\n",
    "我特地没有考虑时间，因为实际验证的时候，因为有些片子的时间有错误，有的长达十几个小时，导致推荐的都是这些乱七八糟的影片。\n",
    "虽然使用时间能达到更高的精度，但是却和“学习性癖”这个主题背道而驰了。"
   ]
  },
  {
   "cell_type": "code",
   "execution_count": 51,
   "metadata": {
    "collapsed": false
   },
   "outputs": [
    {
     "name": "stderr",
     "output_type": "stream",
     "text": [
      "[Parallel(n_jobs=1)]: Done   4 out of   4 | elapsed:   25.1s finished\n"
     ]
    },
    {
     "data": {
      "text/plain": [
       "LogisticRegressionCV(Cs=60, class_weight=None, cv=4, dual=False,\n",
       "           fit_intercept=True, intercept_scaling=1.0, max_iter=1000,\n",
       "           multi_class='ovr', n_jobs=1, penalty='l2', random_state=None,\n",
       "           refit=True, scoring=None, solver='lbfgs', tol=0.0001, verbose=1)"
      ]
     },
     "execution_count": 51,
     "metadata": {},
     "output_type": "execute_result"
    }
   ],
   "source": [
    "import sklearn.linear_model\n",
    "regr = sklearn.linear_model.LogisticRegressionCV(\n",
    "    Cs=60, fit_intercept=True, cv=4, dual=False, \n",
    "    penalty='l2', scoring=None, solver='lbfgs', tol=0.0001, \n",
    "    max_iter=1000, class_weight=None, n_jobs=1, verbose=1)\n",
    "regr.fit(Xt_train, y_train>-0.5)"
   ]
  },
  {
   "cell_type": "code",
   "execution_count": 52,
   "metadata": {
    "collapsed": false
   },
   "outputs": [],
   "source": [
    "y_train_predict = regr.predict(Xt_train)\n",
    "y_test_predict = regr.predict(Xt_test)\n",
    "y_train_real = np.reshape(y_train>-0.5,y_train_predict.shape)\n",
    "y_test_real = np.reshape(y_test>-0.5,y_test_predict.shape)"
   ]
  },
  {
   "cell_type": "code",
   "execution_count": 53,
   "metadata": {
    "collapsed": false
   },
   "outputs": [
    {
     "name": "stdout",
     "output_type": "stream",
     "text": [
      "------------ACCURACY-------------\n",
      "Train accuracy: 68.211921%\n",
      "Test accuracy: 70.886076%\n"
     ]
    }
   ],
   "source": [
    "# 输出报告\n",
    "from sklearn import metrics\n",
    "print('------------ACCURACY-------------')\n",
    "print \"Train accuracy: %f%%\" % (sum(y_train_predict==y_train_real)*100.0/len(y_train_real))\n",
    "print \"Test accuracy: %f%%\" % (sum(y_test_predict==y_test_real)*100.0/len(y_test_real))"
   ]
  },
  {
   "cell_type": "code",
   "execution_count": null,
   "metadata": {
    "collapsed": false
   },
   "outputs": [],
   "source": [
    "print('-------------REPORT-------------')\n",
    "print('TRAIN RESULT')\n",
    "print(metrics.classification_report(y_train_real, y_train_predict))\n",
    "print('TRAIN CONFUSION MATRIX')\n",
    "print(metrics.confusion_matrix(y_train_real, y_train_predict))\n",
    "\n",
    "print('TEST RESULT')\n",
    "print(metrics.classification_report(y_test_real, y_test_predict))\n",
    "print('TEST CONFUSION MATRIX')\n",
    "print(metrics.confusion_matrix(y_test_real, y_test_predict))"
   ]
  },
  {
   "cell_type": "code",
   "execution_count": 16,
   "metadata": {
    "collapsed": false
   },
   "outputs": [
    {
     "name": "stdout",
     "output_type": "stream",
     "text": [
      "coefficients: [[-0.03172487  0.16995903  0.09398287 ...,  0.          0.10091245\n",
      "   0.03079246]]\n",
      "intercept: [-1.31674931]\n"
     ]
    }
   ],
   "source": [
    "print \"coefficients:\",regr.coef_        #与X结合的值  \n",
    "print \"intercept:\",regr.intercept_         #类似于截距  "
   ]
  },
  {
   "cell_type": "code",
   "execution_count": 27,
   "metadata": {
    "collapsed": false
   },
   "outputs": [
    {
     "name": "stdout",
     "output_type": "stream",
     "text": [
      "Positive top N words: Fucking,Porno Vrai,Blowjobs,German,Shaved,French,Young Masturbating,Masturbating,Chubby,Sexy Latina,Fisting and Squirting,Teens,Gangbang,Pussy Fucking,Muscular Women,Double Penetration,Hardcore,Creampie,Japanese,Anal\n",
      "Negative top N words: Amateur,Close-ups,Throat Fuck,Big Dick,Bisexuals,Sexy Horny,Flashing,Outdoor,Hidden Cams,Public Nudity,Redheads,Wife,Sofia Gucci,Anal Fuck,Granny,Cock Suckers,Student,Oral,Mexican,Private\n"
     ]
    }
   ],
   "source": [
    "index = np.argsort(regr.coef_[0])\n",
    "tag_sorted = []\n",
    "for i in index:\n",
    "    tag_sorted.append(tag_list[i])\n",
    "\n",
    "# 显示对分类有正贡献的词汇和负贡献的词汇\n",
    "N = 20\n",
    "print \"Positive top N words:\",\",\".join(tag_sorted[-N:])\n",
    "print \"Negative top N words:\",\",\".join(tag_sorted[:N])"
   ]
  },
  {
   "cell_type": "markdown",
   "metadata": {},
   "source": [
    "### 使用线性回归对影片进行评分估测\n",
    "下面尝试使用线性回归对我的打分进行分析，但是这种方法并不好，首先我打分并不一定符合实际的分布，要适应实际分布就要引入非线性算法，就要降低可解释性，或者陷入对打分使用一个单调增函数进行变换，然后无尽的调整这个函数的江局中去。"
   ]
  },
  {
   "cell_type": "code",
   "execution_count": 49,
   "metadata": {
    "collapsed": false
   },
   "outputs": [
    {
     "name": "stderr",
     "output_type": "stream",
     "text": [
      "............................................................................................................................................................................................................................................................................................................[Parallel(n_jobs=1)]: Done   3 out of   3 | elapsed:  2.8min finished\n"
     ]
    },
    {
     "data": {
      "text/plain": [
       "LassoCV(alphas=None, copy_X=True, cv=None, eps=0.001, fit_intercept=True,\n",
       "    max_iter=1000, n_alphas=100, n_jobs=1, normalize=False, positive=False,\n",
       "    precompute='auto', random_state=None, selection='cyclic', tol=0.0001,\n",
       "    verbose=True)"
      ]
     },
     "execution_count": 49,
     "metadata": {},
     "output_type": "execute_result"
    }
   ],
   "source": [
    "import sklearn.linear_model\n",
    "lasso_ratemodel = sklearn.linear_model.LassoCV(\n",
    "    eps=0.001, n_alphas=100, alphas=None, fit_intercept=True, \n",
    "    normalize=False, precompute='auto', max_iter=1000, tol=0.0001, \n",
    "    copy_X=True, cv=None, verbose=True, n_jobs=1, positive=False, \n",
    "    random_state=None, selection='cyclic')\n",
    "\n",
    "lasso_ratemodel.fit(Xt_train, y_train.reshape((len(y_train),)))"
   ]
  },
  {
   "cell_type": "code",
   "execution_count": 50,
   "metadata": {
    "collapsed": false
   },
   "outputs": [
    {
     "name": "stdout",
     "output_type": "stream",
     "text": [
      "Train error: 1.01993 Test error: 1.10948\n"
     ]
    },
    {
     "data": {
      "image/png": "[encoded data removed]",
      "text/plain": [
       "<matplotlib.figure.Figure at 0x7ff77c21dad0>"
      ]
     },
     "metadata": {},
     "output_type": "display_data"
    }
   ],
   "source": [
    "y_train_predict = lasso_ratemodel.predict(Xt_train)\n",
    "y_test_predict = lasso_ratemodel.predict(Xt_test)\n",
    "plot(y_train,y_train_predict,'b.',y_test,y_test_predict,'r.',[-2,2],[-2,2],'g-')\n",
    "import sklearn.metrics as skm\n",
    "r_train = np.sqrt(skm.mean_squared_error(y_train_predict,y_train))\n",
    "r_test = np.sqrt(skm.mean_squared_error(y_test_predict,y_test))\n",
    "print \"Train error:\", r_train, \"Test error:\", r_test"
   ]
  },
  {
   "cell_type": "markdown",
   "metadata": {},
   "source": [
    "### Logistic模型实战用于影片推荐\n",
    "所以我们最后还是选择了Logistic回归为我的影片进行打分。\n",
    "下面是用训练好的Logistic模型为我爬虫爬到的所有电影打分，并且我使用了一个django网站来显示这些影片的预览，来看看和我的喜好是否相符合。"
   ]
  },
  {
   "cell_type": "code",
   "execution_count": null,
   "metadata": {
    "collapsed": false
   },
   "outputs": [],
   "source": [
    "from scipy import sparse\n",
    "if considerTime:\n",
    "    Xpred = np.zeros(\n",
    "            (len(result_set_all), len(tag_index_dict)+ 1), \n",
    "            dtype=\"float32\" )\n",
    "    for i in range(len(result_set_all)):\n",
    "        Xpred[i, 0] = np.log10(result_set_all[i][-1])\n",
    "        for tag in result_set_all[i][3]:\n",
    "            if tag_index_dict.has_key(tag):\n",
    "                Xpred[i, tag_index_dict[tag] + 1] = 1\n",
    "else:\n",
    "    Xpred = np.zeros(\n",
    "            (len(result_set_all), len(tag_index_dict)), \n",
    "            dtype=\"float32\" )\n",
    "    for i in range(len(result_set_all)):\n",
    "        for tag in result_set_all[i][3]:\n",
    "            if tag_index_dict.has_key(tag):\n",
    "                Xpred[i, tag_index_dict[tag]] = 1\n",
    "Xpred = sparse.coo_matrix(Xpred)"
   ]
  },
  {
   "cell_type": "code",
   "execution_count": null,
   "metadata": {
    "collapsed": false
   },
   "outputs": [],
   "source": [
    "yp = regr.predict(Xpred)\n",
    "pr = regr.predict_proba(Xpred)"
   ]
  },
  {
   "cell_type": "code",
   "execution_count": null,
   "metadata": {
    "collapsed": false
   },
   "outputs": [],
   "source": [
    "prob_pos = pr[:,1]\n",
    "prob_pos = np.sort(prob_pos)\n",
    "plot(prob_pos[1:3000]) # 观察SORT后前3000部电影的Value"
   ]
  },
  {
   "cell_type": "code",
   "execution_count": null,
   "metadata": {
    "collapsed": false
   },
   "outputs": [],
   "source": [
    "Write2SQL=False\n",
    "if Write2SQL:\n",
    "    conn = genSQLConnection()\n",
    "    cur = conn.cursor()\n",
    "    for i in xrange(len(result_set_all)):\n",
    "        sql_cmd = \"UPDATE public.xhamster_spider SET recommand_info=%f WHERE id=%d;\" % (pr[i,0], result_set_all[i][0])\n",
    "        cur.execute(sql_cmd)\n",
    "        conn.commit()\n",
    "        if i % 10000 == 0:\n",
    "            print \"%d logs finished.\" % i\n",
    "    cur.close()"
   ]
  },
  {
   "cell_type": "code",
   "execution_count": 30,
   "metadata": {
    "collapsed": false
   },
   "outputs": [
    {
     "data": {
      "text/plain": [
       "<matplotlib.text.Text at 0x7ff77cb3b290>"
      ]
     },
     "execution_count": 30,
     "metadata": {},
     "output_type": "execute_result"
    },
    {
     "data": {
      "image/png": "[encoded data removed]",
      "text/plain": [
       "<matplotlib.figure.Figure at 0x7ff7817c4310>"
      ]
     },
     "metadata": {},
     "output_type": "display_data"
    }
   ],
   "source": [
    "conn = genSQLConnection()\n",
    "cur = conn.cursor()\n",
    "sql_cmd = \"select recommand_info from public.xhamster_spider\"\n",
    "cur.execute(sql_cmd)\n",
    "res = cur.fetchall()\n",
    "cur.close()\n",
    "conn.close()\n",
    "res = [x[0] for x in res]\n",
    "[F, x, p] = hist(1-np.array(res), bins = 100)\n",
    "xlabel('Recommand prob')\n",
    "ylabel('Frequency')\n",
    "title('My recommand distribution')"
   ]
  },
  {
   "cell_type": "code",
   "execution_count": 41,
   "metadata": {
    "collapsed": false
   },
   "outputs": [
    {
     "name": "stdout",
     "output_type": "stream",
     "text": [
      "Test:79, Train:453\n",
      "Positive rate:31.390977%\n"
     ]
    }
   ],
   "source": []
  },
  {
   "cell_type": "code",
   "execution_count": null,
   "metadata": {
    "collapsed": true
   },
   "outputs": [],
   "source": []
  }
 ],
 "metadata": {
  "anaconda-cloud": {},
  "kernelspec": {
   "display_name": "Python [conda root]",
   "language": "python",
   "name": "conda-root-py"
  },
  "language_info": {
   "codemirror_mode": {
    "name": "ipython",
    "version": 2
   },
   "file_extension": ".py",
   "mimetype": "text/x-python",
   "name": "python",
   "nbconvert_exporter": "python",
   "pygments_lexer": "ipython2",
   "version": "2.7.12"
  }
 },
 "nbformat": 4,
 "nbformat_minor": 1
}
